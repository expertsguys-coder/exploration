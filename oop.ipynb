{
 "cells": [
  {
   "cell_type": "code",
   "execution_count": 3,
   "id": "64e28dd9",
   "metadata": {},
   "outputs": [],
   "source": [
    "### Jupyter Notebook: Object-Oriented Programming (OOP) in Python\n",
    "\n",
    "# This notebook provides a comprehensive guide to Object-Oriented Programming (OOP) in Python. OOP is a programming paradigm that uses **objects** and **classes** to structure and organize code, making it more modular, reusable, and easier to manage.\n",
    "\n",
    "\n",
    "### 1. Introduction to OOP\n",
    "\n",
    "## What is a Class?** 🏢\n",
    "# class is a **blueprint** or **template** for creating objects. It defines a set of attributes (data) and methods (functions) that the objects will have. Think of it like a cookie cutter: the cutter itself is the class, and the cookies you make are the objects.\n",
    "\n",
    "## What is an Object?** 🚗\n",
    "# An object is an **instance** of a class. It's a real-world entity created from the class blueprint. Each object has its own unique set of attribute values.\n",
    "\n",
    "\n",
    "### 2. Core OOP Concepts\n",
    "\n",
    "# OOP is built on four fundamental pillars.\n",
    "\n",
    "#### 2.1. Encapsulation 🔐\n",
    "\n",
    "# Encapsulation is the bundling of data (attributes) and methods (functions) that operate on the data into a single unit, a class. It also involves **data hiding**, which restricts direct access to some of the object's components. This protects the data from accidental modification. In Python, this is done by convention using underscores (`_` or `__`).\n",
    "\n",
    "## Code Example:\n"
   ]
  },
  {
   "cell_type": "code",
   "execution_count": 4,
   "id": "f09d0986",
   "metadata": {},
   "outputs": [
    {
     "name": "stdout",
     "output_type": "stream",
     "text": [
      "Name: Alice\n",
      "Roll Number: 101\n",
      "Secret Grade: A+\n"
     ]
    }
   ],
   "source": [
    "class Student:\n",
    "    def __init__(self, name, roll_number):\n",
    "        # Public attribute\n",
    "        self.name = name\n",
    "        # Protected attribute\n",
    "        self._roll_number = roll_number\n",
    "        # Private attribute\n",
    "        self.__secret_grade = \"A+\"\n",
    "\n",
    "    def get_roll_number(self):\n",
    "        return self._roll_number\n",
    "\n",
    "    def get_secret_grade(self):\n",
    "        return self.__secret_grade\n",
    "\n",
    "# Creating an object\n",
    "s1 = Student(\"Alice\", 101)\n",
    "\n",
    "# Accessing public attribute\n",
    "print(f\"Name: {s1.name}\")\n",
    "\n",
    "# Accessing protected attribute (conventionally)\n",
    "print(f\"Roll Number: {s1.get_roll_number()}\")\n",
    "\n",
    "# Accessing private attribute via a method\n",
    "print(f\"Secret Grade: {s1.get_secret_grade()}\")"
   ]
  }
 ],
 "metadata": {
  "kernelspec": {
   "display_name": "Python 3 (ipykernel)",
   "language": "python",
   "name": "python3"
  }
 },
 "nbformat": 4,
 "nbformat_minor": 5
}
